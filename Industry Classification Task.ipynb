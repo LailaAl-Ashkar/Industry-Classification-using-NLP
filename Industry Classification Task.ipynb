{
 "cells": [
  {
   "cell_type": "markdown",
   "metadata": {
    "id": "bKat9ekOcgb8"
   },
   "source": [
    "## Import essential libraries"
   ]
  },
  {
   "cell_type": "code",
   "execution_count": 297,
   "metadata": {
    "id": "7sq_ABtBY6wd"
   },
   "outputs": [],
   "source": [
    "# Basic libraries\n",
    "import os\n",
    "import warnings\n",
    "import numpy as np\n",
    "import matplotlib.pyplot as plt\n",
    "import pandas as pd\n",
    "\n",
    "warnings.simplefilter(action='ignore', category=FutureWarning)\n",
    "warnings.simplefilter(action='ignore', category=UserWarning)\n",
    "\n",
    "# Text preprocessing libraries\n",
    "import re\n",
    "from gensim.parsing.preprocessing import remove_stopwords\n",
    "from gensim.parsing.preprocessing import STOPWORDS\n",
    "from sklearn.utils import resample\n",
    "\n",
    "# Model training and testing libraries\n",
    "from sklearn.model_selection import train_test_split\n",
    "from sklearn import preprocessing\n",
    "from sklearn.linear_model import LogisticRegression, SGDClassifier\n",
    "from sklearn.tree import DecisionTreeClassifier\n",
    "from sklearn.neighbors import KNeighborsClassifier\n",
    "from xgboost import XGBClassifier\n",
    "from sklearn.ensemble import RandomForestClassifier, ExtraTreesClassifier\n",
    "from sklearn.ensemble import AdaBoostClassifier, BaggingClassifier\n",
    "from sklearn.utils.class_weight import compute_sample_weight\n",
    "from sklearn.feature_extraction.text import CountVectorizer, TfidfVectorizer\n",
    "from sklearn.metrics import accuracy_score, confusion_matrix\n",
    "from sklearn.naive_bayes import MultinomialNB\n",
    "from sklearn.pipeline import Pipeline\n",
    "from sklearn.feature_extraction.text import TfidfTransformer\n",
    "\n",
    "# Model Evaluation libraries\n",
    "from sklearn.metrics import f1_score, recall_score, precision_score\n",
    "from sklearn.metrics import classification_report\n",
    "\n",
    "from tabulate import tabulate\n",
    "import pickle"
   ]
  },
  {
   "cell_type": "markdown",
   "metadata": {
    "id": "iWapRFh8cyGh"
   },
   "source": [
    "## Exploratory Data Analysis"
   ]
  },
  {
   "cell_type": "code",
   "execution_count": 298,
   "metadata": {
    "colab": {
     "base_uri": "https://localhost:8080/",
     "height": 203
    },
    "id": "lYQzkty4c6g_",
    "outputId": "3f6a9fa8-8c3a-45b6-9754-3a877f1edf4b"
   },
   "outputs": [
    {
     "data": {
      "text/html": [
       "<div>\n",
       "<style scoped>\n",
       "    .dataframe tbody tr th:only-of-type {\n",
       "        vertical-align: middle;\n",
       "    }\n",
       "\n",
       "    .dataframe tbody tr th {\n",
       "        vertical-align: top;\n",
       "    }\n",
       "\n",
       "    .dataframe thead th {\n",
       "        text-align: right;\n",
       "    }\n",
       "</style>\n",
       "<table border=\"1\" class=\"dataframe\">\n",
       "  <thead>\n",
       "    <tr style=\"text-align: right;\">\n",
       "      <th></th>\n",
       "      <th>job title</th>\n",
       "      <th>industry</th>\n",
       "    </tr>\n",
       "  </thead>\n",
       "  <tbody>\n",
       "    <tr>\n",
       "      <th>0</th>\n",
       "      <td>technical support and helpdesk supervisor - co...</td>\n",
       "      <td>IT</td>\n",
       "    </tr>\n",
       "    <tr>\n",
       "      <th>1</th>\n",
       "      <td>senior technical support engineer</td>\n",
       "      <td>IT</td>\n",
       "    </tr>\n",
       "    <tr>\n",
       "      <th>2</th>\n",
       "      <td>head of it services</td>\n",
       "      <td>IT</td>\n",
       "    </tr>\n",
       "    <tr>\n",
       "      <th>3</th>\n",
       "      <td>js front end engineer</td>\n",
       "      <td>IT</td>\n",
       "    </tr>\n",
       "    <tr>\n",
       "      <th>4</th>\n",
       "      <td>network and telephony controller</td>\n",
       "      <td>IT</td>\n",
       "    </tr>\n",
       "  </tbody>\n",
       "</table>\n",
       "</div>"
      ],
      "text/plain": [
       "                                           job title industry\n",
       "0  technical support and helpdesk supervisor - co...       IT\n",
       "1                  senior technical support engineer       IT\n",
       "2                                head of it services       IT\n",
       "3                              js front end engineer       IT\n",
       "4                   network and telephony controller       IT"
      ]
     },
     "execution_count": 298,
     "metadata": {},
     "output_type": "execute_result"
    }
   ],
   "source": [
    "# Load Data\n",
    "data_df = pd.read_csv('Job titles and industries.csv')\n",
    "\n",
    "# Print first few rows\n",
    "data_df.head()"
   ]
  },
  {
   "cell_type": "code",
   "execution_count": 299,
   "metadata": {
    "colab": {
     "base_uri": "https://localhost:8080/"
    },
    "id": "sYqAy6Qkptme",
    "outputId": "8f6ed3a7-10d0-4b60-e930-a19bc5129182"
   },
   "outputs": [
    {
     "name": "stdout",
     "output_type": "stream",
     "text": [
      "<class 'pandas.core.frame.DataFrame'>\n",
      "RangeIndex: 8586 entries, 0 to 8585\n",
      "Data columns (total 2 columns):\n",
      " #   Column     Non-Null Count  Dtype \n",
      "---  ------     --------------  ----- \n",
      " 0   job title  8586 non-null   object\n",
      " 1   industry   8586 non-null   object\n",
      "dtypes: object(2)\n",
      "memory usage: 134.3+ KB\n"
     ]
    }
   ],
   "source": [
    "# Understanding data\n",
    "data_df.info()"
   ]
  },
  {
   "cell_type": "markdown",
   "metadata": {},
   "source": [
    "it seems there're NO null values"
   ]
  },
  {
   "cell_type": "code",
   "execution_count": 300,
   "metadata": {
    "colab": {
     "base_uri": "https://localhost:8080/",
     "height": 110
    },
    "id": "Y76YbI2epxB4",
    "outputId": "cdcb65ac-6c81-46a5-9ee5-6b9cb5c47db6"
   },
   "outputs": [
    {
     "data": {
      "text/html": [
       "<div>\n",
       "<style scoped>\n",
       "    .dataframe tbody tr th:only-of-type {\n",
       "        vertical-align: middle;\n",
       "    }\n",
       "\n",
       "    .dataframe tbody tr th {\n",
       "        vertical-align: top;\n",
       "    }\n",
       "\n",
       "    .dataframe thead th {\n",
       "        text-align: right;\n",
       "    }\n",
       "</style>\n",
       "<table border=\"1\" class=\"dataframe\">\n",
       "  <thead>\n",
       "    <tr style=\"text-align: right;\">\n",
       "      <th></th>\n",
       "      <th>count</th>\n",
       "      <th>unique</th>\n",
       "      <th>top</th>\n",
       "      <th>freq</th>\n",
       "    </tr>\n",
       "  </thead>\n",
       "  <tbody>\n",
       "    <tr>\n",
       "      <th>job title</th>\n",
       "      <td>8586</td>\n",
       "      <td>3890</td>\n",
       "      <td>marketing executive</td>\n",
       "      <td>91</td>\n",
       "    </tr>\n",
       "    <tr>\n",
       "      <th>industry</th>\n",
       "      <td>8586</td>\n",
       "      <td>4</td>\n",
       "      <td>IT</td>\n",
       "      <td>4746</td>\n",
       "    </tr>\n",
       "  </tbody>\n",
       "</table>\n",
       "</div>"
      ],
      "text/plain": [
       "          count unique                  top  freq\n",
       "job title  8586   3890  marketing executive    91\n",
       "industry   8586      4                   IT  4746"
      ]
     },
     "execution_count": 300,
     "metadata": {},
     "output_type": "execute_result"
    }
   ],
   "source": [
    "data_df.describe().T"
   ]
  },
  {
   "cell_type": "code",
   "execution_count": 301,
   "metadata": {
    "colab": {
     "base_uri": "https://localhost:8080/"
    },
    "id": "EemG9bDzkwo2",
    "outputId": "40329617-9919-440d-8838-585bec169198"
   },
   "outputs": [
    {
     "data": {
      "text/plain": [
       "True     4618\n",
       "False    3968\n",
       "dtype: int64"
      ]
     },
     "execution_count": 301,
     "metadata": {},
     "output_type": "execute_result"
    }
   ],
   "source": [
    "# Check if there's any duplicates\n",
    "data_df.duplicated().value_counts()"
   ]
  },
  {
   "cell_type": "markdown",
   "metadata": {},
   "source": [
    "There're 3968 unique values"
   ]
  },
  {
   "cell_type": "markdown",
   "metadata": {},
   "source": [
    "### Data Visualization"
   ]
  },
  {
   "cell_type": "code",
   "execution_count": 302,
   "metadata": {
    "colab": {
     "base_uri": "https://localhost:8080/",
     "height": 337
    },
    "id": "QuByFBVmpCTH",
    "outputId": "163481a6-a5af-4e7b-ffc6-b5593173da81"
   },
   "outputs": [
    {
     "data": {
      "text/plain": [
       "<AxesSubplot:>"
      ]
     },
     "execution_count": 302,
     "metadata": {},
     "output_type": "execute_result"
    },
    {
     "data": {
      "image/png": "[encoded data removed]",
      "text/plain": [
       "<Figure size 432x288 with 1 Axes>"
      ]
     },
     "metadata": {
      "needs_background": "light"
     },
     "output_type": "display_data"
    }
   ],
   "source": [
    "data_df['industry'].value_counts().plot.bar()"
   ]
  },
  {
   "cell_type": "code",
   "execution_count": 303,
   "metadata": {
    "colab": {
     "base_uri": "https://localhost:8080/"
    },
    "id": "CsBJ9gegwrqJ",
    "outputId": "283d4d2d-af85-4a46-e4c6-63c9ace2cba3"
   },
   "outputs": [],
   "source": [
    "# Remove Duplicates\n",
    "# non_duplicated_data_df = data_df.drop_duplicates()\n",
    "# non_duplicated_data_df.info()"
   ]
  },
  {
   "cell_type": "code",
   "execution_count": 304,
   "metadata": {
    "colab": {
     "base_uri": "https://localhost:8080/",
     "height": 340
    },
    "id": "jUy5xi1a0Obl",
    "outputId": "b8da8236-0674-4fd6-d7ac-1f4e49f26dc4"
   },
   "outputs": [],
   "source": [
    "# non_duplicated_data_df['industry'].value_counts().plot.bar()"
   ]
  },
  {
   "cell_type": "markdown",
   "metadata": {},
   "source": [
    "## Text Preprocessing"
   ]
  },
  {
   "cell_type": "markdown",
   "metadata": {
    "id": "ZpdjjRP-HKYS"
   },
   "source": [
    "### Noise Removal"
   ]
  },
  {
   "cell_type": "code",
   "execution_count": 305,
   "metadata": {
    "id": "uRHbvUUiHNG8"
   },
   "outputs": [],
   "source": [
    "def noise_removal(text):\n",
    "    # remove html markup\n",
    "    text = re.sub(\"(<.*?>)\",\"\",text)\n",
    "    \n",
    "    #remove non-ascii and digits\n",
    "    text = re.sub(\"(\\\\W|\\\\d)\",\" \",text)\n",
    "    \n",
    "    #remove whitespace\n",
    "    text = text.strip()\n",
    "    return text"
   ]
  },
  {
   "cell_type": "code",
   "execution_count": 306,
   "metadata": {
    "id": "f2-rUL_V0lYX"
   },
   "outputs": [],
   "source": [
    "def text_preprocessing(text):\n",
    "    # Convert text to lower-case\n",
    "    text = remove_stopwords(text.lower()).split()\n",
    "    clean_job_title = ''\n",
    "    \n",
    "    # Add some symbols to built-in STOPWORDS\n",
    "    stop_words = list(STOPWORDS.union(set(['&', ',', '-', '/', '\\\\', '+', '=', '$', '#', '*'])))\n",
    "    \n",
    "    # Remove 'IT' from STOPWORDS\n",
    "    stop_words.remove('it')\n",
    "    \n",
    "    # Add clean word to job title\n",
    "    for word in text:\n",
    "        if len(word) >= 2 and word not in stop_words:\n",
    "            clean_job_title += word + ' '\n",
    "            \n",
    "    # Apply noise removal to clean job title\n",
    "    clean_job_title = noise_removal(clean_job_title)\n",
    "\n",
    "    return clean_job_title"
   ]
  },
  {
   "cell_type": "code",
   "execution_count": 307,
   "metadata": {
    "colab": {
     "base_uri": "https://localhost:8080/"
    },
    "id": "j3ZJc_DC7y5G",
    "outputId": "2f4c37cc-0cd5-46de-d707-3298660208e4"
   },
   "outputs": [],
   "source": [
    "# Apply text preprocessing to non-duplicated data\n",
    "# non_duplicated_data_df['job title'] = non_duplicated_data_df['job title'].map(text_preprocessing)\n",
    "data_df['job title'] = data_df['job title'].map(text_preprocessing)"
   ]
  },
  {
   "cell_type": "code",
   "execution_count": 308,
   "metadata": {
    "colab": {
     "base_uri": "https://localhost:8080/",
     "height": 417
    },
    "id": "qiB9y5Yw7_dJ",
    "outputId": "5b25af6b-4333-4f82-e91f-3703972b3916"
   },
   "outputs": [
    {
     "data": {
      "text/html": [
       "<div>\n",
       "<style scoped>\n",
       "    .dataframe tbody tr th:only-of-type {\n",
       "        vertical-align: middle;\n",
       "    }\n",
       "\n",
       "    .dataframe tbody tr th {\n",
       "        vertical-align: top;\n",
       "    }\n",
       "\n",
       "    .dataframe thead th {\n",
       "        text-align: right;\n",
       "    }\n",
       "</style>\n",
       "<table border=\"1\" class=\"dataframe\">\n",
       "  <thead>\n",
       "    <tr style=\"text-align: right;\">\n",
       "      <th></th>\n",
       "      <th>job title</th>\n",
       "      <th>industry</th>\n",
       "    </tr>\n",
       "  </thead>\n",
       "  <tbody>\n",
       "    <tr>\n",
       "      <th>0</th>\n",
       "      <td>technical support helpdesk supervisor county b...</td>\n",
       "      <td>IT</td>\n",
       "    </tr>\n",
       "    <tr>\n",
       "      <th>1</th>\n",
       "      <td>senior technical support engineer</td>\n",
       "      <td>IT</td>\n",
       "    </tr>\n",
       "    <tr>\n",
       "      <th>2</th>\n",
       "      <td>head services</td>\n",
       "      <td>IT</td>\n",
       "    </tr>\n",
       "    <tr>\n",
       "      <th>3</th>\n",
       "      <td>js end engineer</td>\n",
       "      <td>IT</td>\n",
       "    </tr>\n",
       "    <tr>\n",
       "      <th>4</th>\n",
       "      <td>network telephony controller</td>\n",
       "      <td>IT</td>\n",
       "    </tr>\n",
       "    <tr>\n",
       "      <th>...</th>\n",
       "      <td>...</td>\n",
       "      <td>...</td>\n",
       "    </tr>\n",
       "    <tr>\n",
       "      <th>8581</th>\n",
       "      <td>data entry clerk</td>\n",
       "      <td>Marketing</td>\n",
       "    </tr>\n",
       "    <tr>\n",
       "      <th>8582</th>\n",
       "      <td>content creator</td>\n",
       "      <td>Marketing</td>\n",
       "    </tr>\n",
       "    <tr>\n",
       "      <th>8583</th>\n",
       "      <td>sales marketing manager</td>\n",
       "      <td>Marketing</td>\n",
       "    </tr>\n",
       "    <tr>\n",
       "      <th>8584</th>\n",
       "      <td>marketing digital marketing consultant</td>\n",
       "      <td>Marketing</td>\n",
       "    </tr>\n",
       "    <tr>\n",
       "      <th>8585</th>\n",
       "      <td>creative copywriter  arabic english</td>\n",
       "      <td>Marketing</td>\n",
       "    </tr>\n",
       "  </tbody>\n",
       "</table>\n",
       "<p>8586 rows × 2 columns</p>\n",
       "</div>"
      ],
      "text/plain": [
       "                                              job title   industry\n",
       "0     technical support helpdesk supervisor county b...         IT\n",
       "1                     senior technical support engineer         IT\n",
       "2                                         head services         IT\n",
       "3                                       js end engineer         IT\n",
       "4                          network telephony controller         IT\n",
       "...                                                 ...        ...\n",
       "8581                                   data entry clerk  Marketing\n",
       "8582                                    content creator  Marketing\n",
       "8583                            sales marketing manager  Marketing\n",
       "8584             marketing digital marketing consultant  Marketing\n",
       "8585                creative copywriter  arabic english  Marketing\n",
       "\n",
       "[8586 rows x 2 columns]"
      ]
     },
     "execution_count": 308,
     "metadata": {},
     "output_type": "execute_result"
    }
   ],
   "source": [
    "#pd.set_option('display.max_rows', non_duplicated_data_df.shape[0]+1)\n",
    "# non_duplicated_data_df\n",
    "data_df"
   ]
  },
  {
   "cell_type": "markdown",
   "metadata": {},
   "source": [
    "## Splitting Data"
   ]
  },
  {
   "cell_type": "code",
   "execution_count": 309,
   "metadata": {
    "id": "LS4WDOdRutz4"
   },
   "outputs": [],
   "source": [
    "# X = non_duplicated_data_df['job title']\n",
    "# y = non_duplicated_data_df['industry']\n",
    "\n",
    "X = data_df['job title']\n",
    "y = data_df['industry']\n",
    "\n",
    "X_train, X_test, y_train, y_test = train_test_split(X, y, test_size=0.2, random_state=42, shuffle=True)"
   ]
  },
  {
   "cell_type": "markdown",
   "metadata": {
    "id": "WBSHkFc10Rf0"
   },
   "source": [
    "## Solve imbalanced data problem: OverSampling minority class"
   ]
  },
  {
   "cell_type": "markdown",
   "metadata": {},
   "source": [
    "OverSampling data should be done only on training data after splitting the original data frame to keep the distribution of test data the same."
   ]
  },
  {
   "cell_type": "code",
   "execution_count": 310,
   "metadata": {
    "colab": {
     "base_uri": "https://localhost:8080/",
     "height": 337
    },
    "id": "_LxNNTb-0gAz",
    "outputId": "5b77a9c9-f48c-4fea-b442-be5dbc273f9b"
   },
   "outputs": [
    {
     "data": {
      "text/plain": [
       "<AxesSubplot:>"
      ]
     },
     "execution_count": 310,
     "metadata": {},
     "output_type": "execute_result"
    },
    {
     "data": {
      "image/png": "[encoded data removed]",
      "text/plain": [
       "<Figure size 432x288 with 1 Axes>"
      ]
     },
     "metadata": {
      "needs_background": "light"
     },
     "output_type": "display_data"
    }
   ],
   "source": [
    "# Merge train data together\n",
    "X = pd.concat([X_train, y_train], axis=1)\n",
    "\n",
    "IT = X[X.industry=='IT']\n",
    "marketing = X[X.industry=='Marketing']\n",
    "education = X[X.industry=='Education']\n",
    "accountancy = X[X.industry=='Accountancy']\n",
    "\n",
    "# OverSampling two minority classes\n",
    "upsampled_education_data = resample(education, replace=True, n_samples=len(IT), random_state=42)\n",
    "upsampled_accontancy_data = resample(accountancy, replace=True, n_samples=len(IT), random_state=42)\n",
    "\n",
    "# Merge OverSampled features together with Majority features\n",
    "upsampled_data = pd.concat([IT, marketing, upsampled_education_data, upsampled_accontancy_data])\n",
    "\n",
    "upsampled_data['industry'].value_counts().plot.bar()"
   ]
  },
  {
   "cell_type": "markdown",
   "metadata": {},
   "source": [
    "Train data seems balanced now."
   ]
  },
  {
   "cell_type": "code",
   "execution_count": 311,
   "metadata": {
    "id": "9QMdtVIhlgLE"
   },
   "outputs": [],
   "source": [
    "# Re-split training data into feature and label\n",
    "X_train, y_train = upsampled_data['job title'], upsampled_data['industry']"
   ]
  },
  {
   "cell_type": "code",
   "execution_count": 312,
   "metadata": {
    "id": "eo7si7c_hjpe"
   },
   "outputs": [],
   "source": [
    "# Balance weights to handle imbalanced data\n",
    "# weights = compute_sample_weight('balanced', y_train)"
   ]
  },
  {
   "cell_type": "markdown",
   "metadata": {},
   "source": [
    "## Model"
   ]
  },
  {
   "cell_type": "code",
   "execution_count": 313,
   "metadata": {
    "colab": {
     "base_uri": "https://localhost:8080/"
    },
    "id": "V72vE5wqSLmJ",
    "outputId": "ab9fbb03-aa68-4b12-bcec-fe2f5bb72758"
   },
   "outputs": [
    {
     "name": "stdout",
     "output_type": "stream",
     "text": [
      "Logistic Regression accuracy: 0.9260768335273574\n",
      "Classification Report: \n",
      "              precision    recall  f1-score   support\n",
      "\n",
      " Accountancy       0.76      0.88      0.82        69\n",
      "   Education       0.88      0.91      0.90       309\n",
      "          IT       0.97      0.96      0.96       942\n",
      "   Marketing       0.90      0.87      0.88       398\n",
      "\n",
      "    accuracy                           0.93      1718\n",
      "   macro avg       0.88      0.91      0.89      1718\n",
      "weighted avg       0.93      0.93      0.93      1718\n",
      "\n",
      "Decision Tree Classifier accuracy: 0.9220023282887078\n",
      "Classification Report: \n",
      "              precision    recall  f1-score   support\n",
      "\n",
      " Accountancy       0.85      0.75      0.80        69\n",
      "   Education       0.88      0.90      0.89       309\n",
      "          IT       0.96      0.96      0.96       942\n",
      "   Marketing       0.87      0.87      0.87       398\n",
      "\n",
      "    accuracy                           0.92      1718\n",
      "   macro avg       0.89      0.87      0.88      1718\n",
      "weighted avg       0.92      0.92      0.92      1718\n",
      "\n",
      "KNN accuracy: 0.9249126891734575\n",
      "Classification Report: \n",
      "              precision    recall  f1-score   support\n",
      "\n",
      " Accountancy       0.79      0.83      0.81        69\n",
      "   Education       0.93      0.88      0.91       309\n",
      "          IT       0.94      0.97      0.96       942\n",
      "   Marketing       0.90      0.86      0.88       398\n",
      "\n",
      "    accuracy                           0.92      1718\n",
      "   macro avg       0.89      0.89      0.89      1718\n",
      "weighted avg       0.92      0.92      0.92      1718\n",
      "\n",
      "Linear SVM accuracy: 0.9202561117578579\n",
      "Classification Report: \n",
      "              precision    recall  f1-score   support\n",
      "\n",
      " Accountancy       0.73      0.88      0.80        69\n",
      "   Education       0.89      0.90      0.90       309\n",
      "          IT       0.95      0.96      0.96       942\n",
      "   Marketing       0.90      0.85      0.88       398\n",
      "\n",
      "    accuracy                           0.92      1718\n",
      "   macro avg       0.87      0.90      0.88      1718\n",
      "weighted avg       0.92      0.92      0.92      1718\n",
      "\n",
      "Perceptron accuracy: 0.9155995343422585\n",
      "Classification Report: \n",
      "              precision    recall  f1-score   support\n",
      "\n",
      " Accountancy       0.91      0.70      0.79        69\n",
      "   Education       0.92      0.88      0.90       309\n",
      "          IT       0.94      0.96      0.95       942\n",
      "   Marketing       0.85      0.88      0.87       398\n",
      "\n",
      "    accuracy                           0.92      1718\n",
      "   macro avg       0.91      0.85      0.88      1718\n",
      "weighted avg       0.92      0.92      0.91      1718\n",
      "\n",
      "[19:24:40] WARNING: C:/Users/Administrator/workspace/xgboost-win64_release_1.4.0/src/learner.cc:1095: Starting in XGBoost 1.3.0, the default evaluation metric used with the objective 'multi:softprob' was changed from 'merror' to 'mlogloss'. Explicitly set eval_metric if you'd like to restore the old behavior.\n",
      "XGboost accuracy: 0.9260768335273574\n",
      "Classification Report: \n",
      "              precision    recall  f1-score   support\n",
      "\n",
      " Accountancy       0.88      0.86      0.87        69\n",
      "   Education       0.86      0.92      0.89       309\n",
      "          IT       0.95      0.96      0.96       942\n",
      "   Marketing       0.92      0.86      0.89       398\n",
      "\n",
      "    accuracy                           0.93      1718\n",
      "   macro avg       0.90      0.90      0.90      1718\n",
      "weighted avg       0.93      0.93      0.93      1718\n",
      "\n",
      "Extra Trees Classifier accuracy: 0.9388824214202561\n",
      "Classification Report: \n",
      "              precision    recall  f1-score   support\n",
      "\n",
      " Accountancy       0.92      0.86      0.89        69\n",
      "   Education       0.94      0.91      0.92       309\n",
      "          IT       0.97      0.97      0.97       942\n",
      "   Marketing       0.88      0.91      0.90       398\n",
      "\n",
      "    accuracy                           0.94      1718\n",
      "   macro avg       0.93      0.91      0.92      1718\n",
      "weighted avg       0.94      0.94      0.94      1718\n",
      "\n",
      "Random Forest Classifier accuracy: 0.9365541327124564\n",
      "Classification Report: \n",
      "              precision    recall  f1-score   support\n",
      "\n",
      " Accountancy       0.94      0.84      0.89        69\n",
      "   Education       0.92      0.91      0.92       309\n",
      "          IT       0.96      0.97      0.96       942\n",
      "   Marketing       0.89      0.90      0.90       398\n",
      "\n",
      "    accuracy                           0.94      1718\n",
      "   macro avg       0.93      0.90      0.92      1718\n",
      "weighted avg       0.94      0.94      0.94      1718\n",
      "\n",
      "Ada Boost Classifier accuracy: 0.770081490104773\n",
      "Classification Report: \n",
      "              precision    recall  f1-score   support\n",
      "\n",
      " Accountancy       0.86      0.43      0.58        69\n",
      "   Education       0.54      0.89      0.67       309\n",
      "          IT       0.87      0.82      0.84       942\n",
      "   Marketing       0.86      0.63      0.73       398\n",
      "\n",
      "    accuracy                           0.77      1718\n",
      "   macro avg       0.78      0.69      0.70      1718\n",
      "weighted avg       0.81      0.77      0.77      1718\n",
      "\n",
      "Bagging Classifier accuracy: 0.9254947613504074\n",
      "Classification Report: \n",
      "              precision    recall  f1-score   support\n",
      "\n",
      " Accountancy       0.86      0.80      0.83        69\n",
      "   Education       0.90      0.90      0.90       309\n",
      "          IT       0.95      0.97      0.96       942\n",
      "   Marketing       0.89      0.87      0.88       398\n",
      "\n",
      "    accuracy                           0.93      1718\n",
      "   macro avg       0.90      0.88      0.89      1718\n",
      "weighted avg       0.92      0.93      0.93      1718\n",
      "\n",
      "Gradient Boosting Classifier accuracy: 0.8923166472642607\n",
      "Classification Report: \n",
      "              precision    recall  f1-score   support\n",
      "\n",
      " Accountancy       0.69      0.78      0.73        69\n",
      "   Education       0.77      0.90      0.83       309\n",
      "          IT       0.95      0.92      0.94       942\n",
      "   Marketing       0.90      0.83      0.87       398\n",
      "\n",
      "    accuracy                           0.89      1718\n",
      "   macro avg       0.83      0.86      0.84      1718\n",
      "weighted avg       0.90      0.89      0.89      1718\n",
      "\n",
      "Naive Bayes Classifier accuracy: 0.9091967403958091\n",
      "Classification Report: \n",
      "              precision    recall  f1-score   support\n",
      "\n",
      " Accountancy       0.55      0.93      0.69        69\n",
      "   Education       0.91      0.89      0.90       309\n",
      "          IT       0.96      0.94      0.95       942\n",
      "   Marketing       0.89      0.86      0.87       398\n",
      "\n",
      "    accuracy                           0.91      1718\n",
      "   macro avg       0.83      0.90      0.85      1718\n",
      "weighted avg       0.92      0.91      0.91      1718\n",
      "\n"
     ]
    }
   ],
   "source": [
    "# Try many classifiers and choose the one that gives highest accuracy\n",
    "\n",
    "models = []\n",
    "\n",
    "models.append(('Logistic Regression', LogisticRegression()))\n",
    "models.append(('Decision Tree Classifier', DecisionTreeClassifier()))\n",
    "models.append(('KNN', KNeighborsClassifier(n_neighbors=3)))\n",
    "models.append(('Linear SVM', SGDClassifier(loss='hinge', penalty='l2',alpha=1e-3, random_state=42, max_iter=200, tol=None)))\n",
    "models.append(('Perceptron', SGDClassifier(loss='perceptron', penalty='l2',alpha=1e-3, random_state=42, max_iter=200, tol=None)))\n",
    "models.append(('XGboost', XGBClassifier()))\n",
    "models.append(('Extra Trees Classifier', ExtraTreesClassifier()))\n",
    "models.append(('Random Forest Classifier', RandomForestClassifier()))\n",
    "models.append(('Ada Boost Classifier', AdaBoostClassifier(random_state=0, n_estimators=100)))\n",
    "models.append(('Bagging Classifier',BaggingClassifier(base_estimator=DecisionTreeClassifier(), n_estimators=100, random_state=42)))\n",
    "models.append(('Gradient Boosting Classifier',GradientBoostingClassifier(random_state=1)))\n",
    "models.append(('Naive Bayes Classifier', MultinomialNB()))\n",
    "  \n",
    "for name, model in models:\n",
    "    \n",
    "    ''' Create pipeline to transform text data into a vector on the basis\n",
    "        of the frequency, learn the vocabulary and inverse document frequency \n",
    "        weightings, and pass it to the model to train.\n",
    "    '''\n",
    "    clf = Pipeline([('vect', CountVectorizer()),\n",
    "               ('tfidf', TfidfTransformer()),\n",
    "               ('clf', model),])\n",
    "    \n",
    "    # Train the model\n",
    "    clf.fit(X_train,y_train)\n",
    "    \n",
    "    # Test the model\n",
    "    y_pred = clf.predict(X_test)\n",
    "    \n",
    "    # Evaluate the model using 4 different metrics: accuracy, percision, recall, f1_score\n",
    "    print('{} accuracy: {}\\nClassification Report: \\n{}'.format(\n",
    "        name, accuracy_score(y_test, y_pred), classification_report(y_test, y_pred)))"
   ]
  },
  {
   "cell_type": "markdown",
   "metadata": {},
   "source": [
    "According to previous results the Model that gives the best Performance is Extra Trees Classifier"
   ]
  },
  {
   "cell_type": "markdown",
   "metadata": {},
   "source": [
    "### Extra Trees Classifier"
   ]
  },
  {
   "cell_type": "code",
   "execution_count": 314,
   "metadata": {
    "colab": {
     "base_uri": "https://localhost:8080/"
    },
    "id": "bFO0muNnq5bq",
    "outputId": "84317031-370c-435b-ec01-2602120bf22f"
   },
   "outputs": [
    {
     "name": "stdout",
     "output_type": "stream",
     "text": [
      "Extra Trees Classifier accuracy: 0.9371362048894063\n",
      "Classification Report: \n",
      "              precision    recall  f1-score   support\n",
      "\n",
      " Accountancy       0.94      0.86      0.89        69\n",
      "   Education       0.93      0.89      0.91       309\n",
      "          IT       0.97      0.97      0.97       942\n",
      "   Marketing       0.88      0.92      0.90       398\n",
      "\n",
      "    accuracy                           0.94      1718\n",
      "   macro avg       0.93      0.91      0.92      1718\n",
      "weighted avg       0.94      0.94      0.94      1718\n",
      "\n"
     ]
    }
   ],
   "source": [
    "clf = Pipeline([('vect', CountVectorizer()),\n",
    "                ('tfidf', TfidfTransformer()),\n",
    "                ('clf', ExtraTreesClassifier()),])\n",
    "\n",
    "clf.fit(X_train, y_train)\n",
    "\n",
    "y_pred = clf.predict(X_test)\n",
    "\n",
    "print('Extra Trees Classifier accuracy: {}\\nClassification Report: \\n{}'.format(\n",
    "        accuracy_score(y_test, y_pred), classification_report(y_test, y_pred)))"
   ]
  },
  {
   "cell_type": "markdown",
   "metadata": {},
   "source": [
    "### Saving model"
   ]
  },
  {
   "cell_type": "code",
   "execution_count": 315,
   "metadata": {},
   "outputs": [],
   "source": [
    "# Saving model to disk\n",
    "pickle.dump(clf, open('model.pkl','wb'))\n",
    "\n",
    "# Loading model to compare the results\n",
    "model = pickle.load(open('model.pkl','rb'))"
   ]
  },
  {
   "cell_type": "markdown",
   "metadata": {},
   "source": [
    "### Testing"
   ]
  },
  {
   "cell_type": "code",
   "execution_count": 316,
   "metadata": {},
   "outputs": [
    {
     "name": "stdout",
     "output_type": "stream",
     "text": [
      "['IT']\n",
      "['IT']\n",
      "['Education']\n",
      "['Marketing']\n",
      "['Accountancy']\n"
     ]
    }
   ],
   "source": [
    "print(model.predict(['Computer Vision Engineer, part time']))\n",
    "print(model.predict(['Machine Learning Engineer']))\n",
    "\n",
    "\n",
    "print(model.predict(['English Teacher - Hiring now!']))\n",
    "\n",
    "print(model.predict(['Manager for our offices in London']))\n",
    "\n",
    "print(model.predict(['1.Credit Controller']))"
   ]
  },
  {
   "cell_type": "code",
   "execution_count": null,
   "metadata": {},
   "outputs": [],
   "source": []
  }
 ],
 "metadata": {
  "colab": {
   "name": "LailaAl-Ashkar_IndustryClassificationTask.ipynb",
   "provenance": []
  },
  "kernelspec": {
   "display_name": "Python 3",
   "language": "python",
   "name": "python3"
  },
  "language_info": {
   "codemirror_mode": {
    "name": "ipython",
    "version": 3
   },
   "file_extension": ".py",
   "mimetype": "text/x-python",
   "name": "python",
   "nbconvert_exporter": "python",
   "pygments_lexer": "ipython3",
   "version": "3.8.5"
  }
 },
 "nbformat": 4,
 "nbformat_minor": 1
}
